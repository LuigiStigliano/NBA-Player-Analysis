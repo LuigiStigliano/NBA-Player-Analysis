{
 "cells": [
  {
   "cell_type": "markdown",
   "metadata": {},
   "source": [
    "# 3. Calcolo di Metriche Avanzate e Normalizzazione\n",
    "\n",
    "**Obiettivo:** Arricchire il dataset con metriche che mi diano una visione più profonda e comparabile delle performance, superando i limiti delle statistiche tradizionali.\n",
    "\n",
    "1.  **Caricamento Dati:** Leggo il DataFrame pulito.\n",
    "2.  **Normalizzazione 'Per 36 Minuti':** Rendo le statistiche comparabili tra giocatori con minutaggi diversi.\n",
    "3.  **Calcolo del True Shooting Percentage (TS%):** Calcolo una metrica avanzata per misurare l'efficienza al tiro.\n",
    "4.  **Salvataggio:** Salvo il DataFrame arricchito, pronto per il clustering."
   ]
  },
  {
   "cell_type": "code",
   "execution_count": null,
   "metadata": {},
   "outputs": [],
   "source": [
    "import os\n",
    "import sys\n",
    "\n",
    "module_path = os.path.abspath(os.path.join('..'))\n",
    "if module_path not in sys.path:\n",
    "    sys.path.append(module_path)\n",
    "\n",
    "from src.config.spark_config import SPARK_CONFIG\n",
    "from src.data_processing.normalization import per_36_minutes_stats\n",
    "from src.feature_engineering.advanced_metrics import calculate_true_shooting_percentage\n",
    "from src.utils.helpers import get_spark_session, save_dataframe\n",
    "\n",
    "project_root = os.path.abspath(os.path.join('..'))\n",
    "processed_data_dir = os.path.join(project_root, \"data\", \"processed\")\n",
    "cleaned_df_path = os.path.join(processed_data_dir, \"players_cleaned.parquet\")\n",
    "output_path = os.path.join(processed_data_dir, \"players_advanced_metrics.parquet\")\n",
    "\n",
    "spark = get_spark_session(\n",
    "    app_name=\"NBA_Advanced_Metrics\",\n",
    "    driver_memory=SPARK_CONFIG[\"driver_memory\"]\n",
    ")"
   ]
  },
  {
   "cell_type": "markdown",
   "metadata": {},
   "source": [
    "### Fase 1: Caricamento dei Dati Puliti\n",
    "\n",
    "Inizio caricando il dataset pulito."
   ]
  },
  {
   "cell_type": "code",
   "execution_count": null,
   "metadata": {},
   "outputs": [],
   "source": [
    "df = spark.read.parquet(cleaned_df_path)"
   ]
  },
  {
   "cell_type": "markdown",
   "metadata": {},
   "source": [
    "### Fase 2: Normalizzazione delle Statistiche (Per 36 Minuti)\n",
    "\n",
    "Confrontare le statistiche totali di un titolare con quelle di una riserva è fuorviante. Normalizzando \"per 36 minuti\", posso confrontare il loro *impatto per minuto*, che è molto più interessante."
   ]
  },
  {
   "cell_type": "code",
   "execution_count": null,
   "metadata": {},
   "outputs": [],
   "source": [
    "stats_to_normalize = ['pts', 'trb', 'ast', 'stl', 'blk', 'tov', 'fga', 'fta', 'fg', 'ft']\n",
    "\n",
    "df_normalized = per_36_minutes_stats(df, stats_to_normalize, minutes_played_col=\"mp\")\n",
    "\n",
    "print(\"Esempio di statistiche normalizzate per 36 minuti:\")\n",
    "df_normalized.select('player', 'season', 'pts_per_36_min', 'trb_per_36_min', 'ast_per_36_min').show(10)"
   ]
  },
  {
   "cell_type": "markdown",
   "metadata": {},
   "source": [
    "#### Interpretazione dell'output\n",
    "\n",
    "La tabella ora ha le nuove colonne `_per_36_min`. Questi valori mi danno una base di confronto molto più equa, che sarà fondamentale per il clustering."
   ]
  },
  {
   "cell_type": "markdown",
   "metadata": {},
   "source": [
    "### Fase 3: Calcolo Metriche Avanzate (True Shooting %)\n",
    "\n",
    "Il True Shooting Percentage (TS%) è una misura di efficienza superiore alla semplice percentuale dal campo, perché tiene conto del valore dei tiri da tre e dei tiri liberi. Un TS% alto indica un giocatore molto efficiente."
   ]
  },
  {
   "cell_type": "code",
   "execution_count": null,
   "metadata": {},
   "outputs": [],
   "source": [
    "df_advanced = calculate_true_shooting_percentage(df_normalized, points_col=\"pts\", fga_col=\"fga\", fta_col=\"fta\")\n",
    "\n",
    "print(\"Top 10 Giocatori per True Shooting Percentage (calcolato):\")\n",
    "df_advanced.select('player', 'season', 'pts_per_36_min', 'ts_pct_calc') \\\n",
    "             .orderBy(df_advanced.ts_pct_calc.desc()) \\\n",
    "             .show(10)"
   ]
  },
  {
   "cell_type": "markdown",
   "metadata": {},
   "source": [
    "#### Interpretazione dell'output\n",
    "\n",
    "In cima a questa classifica non ci sono solo i migliori marcatori, ma giocatori (spesso lunghi) che tirano con percentuali altissime da vicino. Questa metrica mi aiuterà a distinguere i realizzatori \"di volume\" da quelli \"efficienti\"."
   ]
  },
  {
   "cell_type": "markdown",
   "metadata": {},
   "source": [
    "### Fase 4: Salvataggio del DataFrame Arricchito\n",
    "\n",
    "Salvo il DataFrame, che ora contiene sia le statistiche normalizzate che le metriche avanzate. È pronto per il clustering."
   ]
  },
  {
   "cell_type": "code",
   "execution_count": null,
   "metadata": {},
   "outputs": [],
   "source": [
    "save_dataframe(df_advanced, output_path)\n",
    "\n",
    "print(f\"Dati con metriche avanzate salvati con successo in '{output_path}'.\")"
   ]
  },
  {
   "cell_type": "markdown",
   "metadata": {},
   "source": [
    "### Conclusione e Prossimi Passi\n",
    "\n",
    "Ho trasformato i dati grezzi in un set di feature ricco e significativo. Ora ho tutto quello che mi serve per la fase successiva.\n",
    "\n",
    "Nel prossimo notebook, `04_player_clustering.ipynb`, userò queste feature per addestrare il modello di K-Means e raggruppare i giocatori in base al loro stile di gioco."
   ]
  },
  {
   "cell_type": "code",
   "execution_count": null,
   "metadata": {},
   "outputs": [],
   "source": [
    "spark.stop()"
   ]
  }
 ],
 "metadata": {
  "kernelspec": {
   "display_name": ".venv",
   "language": "python",
   "name": "python3"
  },
  "language_info": {
   "codemirror_mode": {
    "name": "ipython",
    "version": 3
   },
   "file_extension": ".py",
   "mimetype": "text/x-python",
   "name": "python",
   "nbconvert_exporter": "python",
   "pygments_lexer": "ipython3",
   "version": "3.13.3"
  }
 },
 "nbformat": 4,
 "nbformat_minor": 4
}
