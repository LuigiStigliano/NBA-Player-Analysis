{
 "cells": [
  {
   "cell_type": "markdown",
   "metadata": {},
   "source": [
    "# 3. Calcolo di Metriche Avanzate e Normalizzazione\n",
    "\n",
    "**Obiettivo:** Arricchire il dataset con metriche che offrono una visione più profonda delle performance dei giocatori, superando i limiti delle statistiche tradizionali.\n",
    "\n",
    "**Fasi:**\n",
    "1.  **Caricamento Dati:** Lettura del DataFrame pulito.\n",
    "2.  **Normalizzazione 'Per 36 Minuti':** Standardizzazione delle statistiche per permettere un confronto equo tra giocatori con minutaggi diversi (es. titolari vs. riserve).\n",
    "3.  **Calcolo del True Shooting Percentage (TS%):** Calcolo di una metrica avanzata per misurare l'efficienza reale al tiro, tenendo conto di tiri da due, da tre e tiri liberi.\n",
    "4.  **Salvataggio:** Memorizzazione del DataFrame arricchito."
   ]
  },
  {
   "cell_type": "code",
   "execution_count": null,
   "metadata": {},
   "outputs": [],
   "source": [
    "import os\n",
    "import sys\n",
    "\n",
    "# Aggiunge la root del progetto al sys.path\n",
    "module_path = os.path.abspath(os.path.join('..'))\n",
    "if module_path not in sys.path:\n",
    "    sys.path.append(module_path)\n",
    "\n",
    "# Importazione delle utility e delle funzioni specifiche\n",
    "from src.utils.helpers import get_spark_session, save_dataframe\n",
    "from src.data_processing.normalization import per_36_minutes_stats\n",
    "from src.feature_engineering.advanced_metrics import calculate_true_shooting_percentage\n",
    "\n",
    "# Inizializzazione della sessione Spark\n",
    "spark = get_spark_session(app_name=\"NBA_Advanced_Metrics\")"
   ]
  },
  {
   "cell_type": "markdown",
   "metadata": {},
   "source": [
    "### Fase 1: Caricamento dei Dati Puliti"
   ]
  },
  {
   "cell_type": "code",
   "execution_count": null,
   "metadata": {},
   "outputs": [],
   "source": [
    "# Caricamento del DataFrame pulito\n",
    "cleaned_df_path = \"../data/processed/players_cleaned.parquet\"\n",
    "df = spark.read.parquet(cleaned_df_path)"
   ]
  },
  {
   "cell_type": "markdown",
   "metadata": {},
   "source": [
    "### Fase 2: Normalizzazione delle Statistiche (Per 36 Minuti)\n",
    "\n",
    "Questa normalizzazione proietta le statistiche di ogni giocatore su un tempo di gioco standard, rendendo possibile confrontare l'impatto di un giocatore di rotazione con quello di un titolare."
   ]
  },
  {
   "cell_type": "code",
   "execution_count": null,
   "metadata": {},
   "outputs": [],
   "source": [
    "# Elenco delle statistiche da normalizzare\n",
    "stats_to_normalize = ['pts', 'trb', 'ast', 'stl', 'blk', 'tov', 'fga', 'fta', 'fg', 'ft']\n",
    "\n",
    "# Applica la funzione di normalizzazione\n",
    "df_normalized = per_36_minutes_stats(df, stats_to_normalize, minutes_played_col=\"mp\")\n",
    "\n",
    "# Visualizzazione di un campione delle statistiche normalizzate\n",
    "print(\"Esempio di statistiche normalizzate per 36 minuti:\")\n",
    "df_normalized.select('player', 'season', 'pts_per_36_min', 'trb_per_36_min', 'ast_per_36_min').show(10)"
   ]
  },
  {
   "cell_type": "markdown",
   "metadata": {},
   "source": [
    "### Fase 3: Calcolo Metriche Avanzate (True Shooting %)\n",
    "\n",
    "Il TS% è una misura di efficienza superiore alla semplice percentuale dal campo (FG%) perché assegna un peso corretto ai tiri da tre punti e ai tiri liberi."
   ]
  },
  {
   "cell_type": "code",
   "execution_count": null,
   "metadata": {},
   "outputs": [],
   "source": [
    "# Calcola il True Shooting Percentage (TS%)\n",
    "df_advanced = calculate_true_shooting_percentage(df_normalized, points_col=\"pts\", fga_col=\"fga\", fta_col=\"fta\")\n",
    "\n",
    "# Visualizza i giocatori con la più alta efficienza al tiro calcolata\n",
    "print(\"Top 10 Giocatori per True Shooting Percentage (calcolato):\")\n",
    "df_advanced.select('player', 'season', 'pts_per_36_min', 'ts_pct_calc') \\\n",
    "             .orderBy(df_advanced.ts_pct_calc.desc()) \\\n",
    "             .show(10)"
   ]
  },
  {
   "cell_type": "markdown",
   "metadata": {},
   "source": [
    "### Fase 4: Salvataggio del DataFrame Arricchito"
   ]
  },
  {
   "cell_type": "code",
   "execution_count": null,
   "metadata": {},
   "outputs": [],
   "source": [
    "# Definisce il percorso di output e salva il DataFrame\n",
    "output_path = \"../data/processed/players_advanced_metrics.parquet\"\n",
    "save_dataframe(df_advanced, output_path)\n",
    "\n",
    "print(f\"Dati con metriche avanzate salvati con successo in '{output_path}'.\")"
   ]
  },
  {
   "cell_type": "code",
   "execution_count": null,
   "metadata": {},
   "outputs": [],
   "source": [
    "# Termina la sessione Spark\n",
    "spark.stop()"
   ]
  }
 ],
 "metadata": {
  "kernelspec": {
   "display_name": ".venv",
   "language": "python",
   "name": "python3"
  },
  "language_info": {
   "codemirror_mode": {
    "name": "ipython",
    "version": 3
   },
   "file_extension": ".py",
   "mimetype": "text/x-python",
   "name": "python",
   "nbconvert_exporter": "python",
   "pygments_lexer": "ipython3",
   "version": "3.13.3"
  }
 },
 "nbformat": 4,
 "nbformat_minor": 4
}