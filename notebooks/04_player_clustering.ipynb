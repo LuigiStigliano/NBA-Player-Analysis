{
 "cells": [
  {
   "cell_type": "markdown",
   "metadata": {},
   "source": [
    "# 4. Clustering dei Giocatori\n",
    "\n",
    "**Obiettivo:** Raggruppare i giocatori in cluster omogenei basati sul loro stile di gioco, utilizzando le statistiche normalizzate e avanzate.\n",
    "\n",
    "**Fasi:**\n",
    "1.  **Caricamento e Selezione Dati:** Caricamento del dataset arricchito e filtraggio per mantenere solo la stagione più recente di ogni giocatore, al fine di analizzare il loro profilo attuale.\n",
    "2.  **Selezione e Preparazione delle Feature:** Scelta delle statistiche più rappresentative dello stile di gioco e loro standardizzazione per il modello di clustering.\n",
    "3.  **Determinazione di 'k' (Numero di Cluster):** Utilizzo dell'Elbow Method per identificare il numero ottimale di cluster da creare.\n",
    "4.  **Addestramento e Valutazione:** Addestramento del modello K-Means con il 'k' ottimale e valutazione della qualità dei cluster tramite il Silhouette Score.\n",
    "5.  **Salvataggio dei Risultati:** Salvataggio del DataFrame con l'ID del cluster assegnato a ogni giocatore."
   ]
  },
  {
   "cell_type": "code",
   "execution_count": null,
   "metadata": {},
   "outputs": [],
   "source": [
    "import os\n",
    "import sys\n",
    "import matplotlib.pyplot as plt\n",
    "import seaborn as sns\n",
    "from pyspark.sql.functions import col, max \n",
    "from pyspark.ml.clustering import KMeans\n",
    "\n",
    "# Aggiunge la root del progetto al sys.path\n",
    "module_path = os.path.abspath(os.path.join('..'))\n",
    "if module_path not in sys.path:\n",
    "    sys.path.append(module_path)\n",
    "\n",
    "# Importazione delle utility e delle funzioni di clustering\n",
    "from src.utils.helpers import get_spark_session, save_dataframe\n",
    "from src.clustering.models import prepare_features_for_clustering, train_kmeans_model, assign_clusters, evaluate_clustering\n",
    "from src.config.spark_config import SPARK_CONFIG\n",
    "\n",
    "# Inizializzazione della sessione Spark\n",
    "spark = get_spark_session(\n",
    "    app_name=\"NBA_Player_Clustering\",\n",
    "    driver_memory=SPARK_CONFIG[\"driver_memory\"]\n",
    ")"
   ]
  },
  {
   "cell_type": "markdown",
   "metadata": {},
   "source": [
    "### Fase 1: Caricamento Dati e Selezione dell'Ultima Stagione"
   ]
  },
  {
   "cell_type": "code",
   "execution_count": null,
   "metadata": {},
   "outputs": [],
   "source": [
    "# Carica il dataset con le metriche avanzate\n",
    "adv_metrics_path = \"../data/processed/players_advanced_metrics.parquet\"\n",
    "df_input = spark.read.parquet(adv_metrics_path)\n",
    "\n",
    "# Per analizzare lo stile di gioco attuale, filtriamo per l'ultima stagione di ogni giocatore\n",
    "df_latest_season = df_input.groupBy(\"player\").agg(max(col(\"season\")).alias(\"latest_year\"))\n",
    "df_for_clustering_input = df_input.join(\n",
    "    df_latest_season,\n",
    "    (df_input.player == df_latest_season.player) & (df_input.season == df_latest_season.latest_year),\n",
    "    \"inner\"\n",
    ").select(df_input[\"*\"])\n",
    "\n",
    "# Definiamo le feature che meglio descrivono lo stile di gioco di un giocatore\n",
    "feature_cols = [\n",
    "    'pts_per_36_min', 'trb_per_36_min', 'ast_per_36_min', \n",
    "    'stl_per_36_min', 'blk_per_36_min', 'tov_per_36_min',\n",
    "    'ts_pct_calc'  # L'efficienza è una feature cruciale\n",
    "]\n",
    "\n",
    "# Prepara il DataFrame finale per il clustering, rimuovendo valori nulli\n",
    "df_for_clustering = df_for_clustering_input.select([\"player\", \"season\"] + feature_cols).na.drop()\n",
    "print(f\"Numero di giocatori idonei per il clustering: {df_for_clustering.count()}\")"
   ]
  },
  {
   "cell_type": "markdown",
   "metadata": {},
   "source": [
    "### Fase 2: Preparazione e Scaling delle Feature\n",
    "\n",
    "Le feature vengono assemblate in un unico vettore e poi scalate (standardizzate) per garantire che nessuna singola statistica domini l'algoritmo a causa della sua scala (es. i punti sono numericamente maggiori dei blocchi)."
   ]
  },
  {
   "cell_type": "code",
   "execution_count": null,
   "metadata": {},
   "outputs": [],
   "source": [
    "# Applica la funzione per assemblare e scalare le feature\n",
    "df_prepared = prepare_features_for_clustering(df_for_clustering, feature_cols)\n",
    "df_prepared.select(\"player\", \"features_scaled\").show(5, truncate=False)"
   ]
  },
  {
   "cell_type": "markdown",
   "metadata": {},
   "source": [
    "### Fase 3: Determinazione del Numero Ottimale di Cluster (Elbow Method)\n",
    "\n",
    "Addestriamo il modello K-Means per diversi valori di 'k' e plottiamo il costo (WSSSE - Within Set Sum of Squared Errors). Il punto in cui la curva si \"appiattisce\" (il \"gomito\") suggerisce un buon compromesso per 'k'."
   ]
  },
  {
   "cell_type": "code",
   "execution_count": null,
   "metadata": {},
   "outputs": [],
   "source": [
    "# Calcolo del costo (WSSSE) per un range di valori di k\n",
    "cost = []\n",
    "k_range = range(2, 15)\n",
    "print(\"Calcolo del costo WSSSE per diversi k...\")\n",
    "\n",
    "for k in k_range:\n",
    "    kmeans = KMeans(featuresCol='features_scaled', k=k, seed=42)\n",
    "    model = kmeans.fit(df_prepared)\n",
    "    cost.append(model.summary.trainingCost)\n",
    "\n",
    "# Visualizzazione del grafico dell'Elbow Method\n",
    "plt.figure(figsize=(12, 6))\n",
    "plt.plot(k_range, cost, 'bx-')\n",
    "plt.xlabel('k (Numero di Cluster)')\n",
    "plt.ylabel('Costo (WSSSE)')\n",
    "plt.title('Elbow Method per la Scelta Ottimale di k')\n",
    "plt.xticks(k_range)\n",
    "plt.grid(True)\n",
    "plt.show()"
   ]
  },
  {
   "cell_type": "markdown",
   "metadata": {},
   "source": [
    "**Analisi del Grafico:**\n",
    "Il grafico mostra un \"gomito\" evidente intorno a `k=6`. Aggiungere più cluster oltre questo punto porta a benefici decrescenti. Scegliamo quindi `k=6` perché offre un buon equilibrio tra numero di profili e loro interpretabilità."
   ]
  },
  {
   "cell_type": "markdown",
   "metadata": {},
   "source": [
    "### Fase 4: Addestramento del Modello Finale e Valutazione"
   ]
  },
  {
   "cell_type": "code",
   "execution_count": null,
   "metadata": {},
   "outputs": [],
   "source": [
    "# Scelta del valore di k basata sull'analisi del gomito\n",
    "k_optimal = 6\n",
    "print(f\"Addestramento del modello K-Means finale con k={k_optimal}...\")\n",
    "\n",
    "# Addestramento e assegnazione dei cluster\n",
    "kmeans_model = train_kmeans_model(df_prepared, k=k_optimal)\n",
    "predictions_df = assign_clusters(kmeans_model, df_prepared)\n",
    "\n",
    "# Visualizzazione dei risultati per alcuni giocatori\n",
    "print(\"Esempi di giocatori con cluster assegnato:\")\n",
    "predictions_df.select(\"player\", \"season\", \"cluster_id\").show(10)\n",
    "\n",
    "# Valutazione della coesione e separazione dei cluster con il Silhouette Score\n",
    "silhouette_score = evaluate_clustering(predictions_df)\n",
    "print(f\"Punteggio Silhouette (validità del clustering): {silhouette_score:.3f}\")"
   ]
  },
  {
   "cell_type": "markdown",
   "metadata": {},
   "source": [
    "### Fase 5: Salvataggio dei Risultati del Clustering"
   ]
  },
  {
   "cell_type": "code",
   "execution_count": null,
   "metadata": {},
   "outputs": [],
   "source": [
    "# Selezione delle colonne rilevanti per il salvataggio (escludendo i vettori di MLlib)\n",
    "columns_to_save = [\"player\", \"season\"] + feature_cols + [\"cluster_id\"]\n",
    "df_to_save = predictions_df.select(columns_to_save)\n",
    "\n",
    "# Salvataggio dei risultati in formato Parquet\n",
    "output_path = \"../data/processed/players_clustered.parquet\"\n",
    "save_dataframe(df_to_save, output_path)\n",
    "\n",
    "print(f\"Risultati del clustering salvati con successo in '{output_path}'.\")"
   ]
  },
  {
   "cell_type": "code",
   "execution_count": null,
   "metadata": {},
   "outputs": [],
   "source": [
    "# Termina la sessione Spark\n",
    "spark.stop()"
   ]
  }
 ],
 "metadata": {
  "kernelspec": {
   "display_name": ".venv",
   "language": "python",
   "name": "python3"
  },
  "language_info": {
   "codemirror_mode": {
    "name": "ipython",
    "version": 3
   },
   "file_extension": ".py",
   "mimetype": "text/x-python",
   "name": "python",
   "nbconvert_exporter": "python",
   "pygments_lexer": "ipython3",
   "version": "3.13.3"
  }
 },
 "nbformat": 4,
 "nbformat_minor": 4
}
