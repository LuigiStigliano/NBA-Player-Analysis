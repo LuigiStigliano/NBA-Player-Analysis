{
 "cells": [
  {
   "cell_type": "markdown",
   "metadata": {},
   "source": [
    "# 5. Analisi e Visualizzazione dei Cluster\n",
    "\n",
    "**Obiettivo:** Interpretare i cluster identificati per definire i diversi stili di gioco. L'analisi si basa sulle caratteristiche statistiche medie di ciascun gruppo.\n",
    "\n",
    "**Fasi:**\n",
    "1.  **Caricamento Dati:** Lettura del DataFrame con i risultati del clustering.\n",
    "2.  **Calcolo dei Profili Medi:** Calcolo delle statistiche medie per ogni cluster per comprenderne le caratteristiche dominanti.\n",
    "3.  **Visualizzazione Comparativa (Radar Chart):** Creazione di un radar chart per confrontare visivamente i profili multidimensionali dei cluster.\n",
    "4.  **Identificazione di Giocatori Rappresentativi:** Elenco di giocatori noti per ogni cluster per validare e dare un nome ai profili identificati."
   ]
  },
  {
   "cell_type": "code",
   "execution_count": null,
   "metadata": {},
   "outputs": [],
   "source": [
    "import os\n",
    "import sys\n",
    "import pandas as pd\n",
    "import numpy as np\n",
    "import matplotlib.pyplot as plt\n",
    "import seaborn as sns\n",
    "from pyspark.sql.functions import col\n",
    "\n",
    "# Aggiunge la root del progetto al sys.path\n",
    "module_path = os.path.abspath(os.path.join('..'))\n",
    "if module_path not in sys.path:\n",
    "    sys.path.append(module_path)\n",
    "\n",
    "# Importazione delle utility e delle funzioni di analisi\n",
    "from src.utils.helpers import get_spark_session\n",
    "from src.clustering.models import get_cluster_profiles\n",
    "from src.config.spark_config import SPARK_CONFIG\n",
    "\n",
    "# Inizializzazione della sessione Spark\n",
    "spark = get_spark_session(\n",
    "    app_name=\"NBA_Cluster_Analysis\",\n",
    "    driver_memory=SPARK_CONFIG[\"driver_memory\"]\n",
    ")\n",
    "\n",
    "# Impostazioni di stile per i grafici\n",
    "sns.set_style(\"whitegrid\")"
   ]
  },
  {
   "cell_type": "markdown",
   "metadata": {},
   "source": [
    "### Fase 1: Caricamento dei Risultati del Clustering"
   ]
  },
  {
   "cell_type": "code",
   "execution_count": null,
   "metadata": {},
   "outputs": [],
   "source": [
    "# Carica il DataFrame con i cluster assegnati\n",
    "clustered_path = \"../data/processed/players_clustered.parquet\"\n",
    "clustered_df = spark.read.parquet(clustered_path)\n",
    "\n",
    "# Lista delle feature utilizzate per il clustering\n",
    "feature_cols = [\n",
    "    'pts_per_36_min', 'trb_per_36_min', 'ast_per_36_min', \n",
    "    'stl_per_36_min', 'blk_per_36_min', 'tov_per_36_min',\n",
    "    'ts_pct_calc'\n",
    "]"
   ]
  },
  {
   "cell_type": "markdown",
   "metadata": {},
   "source": [
    "### Fase 2: Analisi dei Profili Medi dei Cluster\n",
    "\n",
    "Calcoliamo le statistiche medie per ogni cluster. Questo ci permette di creare un \"identikit\" statistico per ciascun gruppo e di iniziare a interpretarne lo stile di gioco."
   ]
  },
  {
   "cell_type": "code",
   "execution_count": null,
   "metadata": {},
   "outputs": [],
   "source": [
    "# Utilizza la funzione helper per calcolare i profili medi e converte in Pandas\n",
    "cluster_profiles_df = get_cluster_profiles(clustered_df, feature_cols)\n",
    "cluster_profiles_pd = cluster_profiles_df.toPandas()\n",
    "\n",
    "# Visualizzazione tabellare dei profili medi\n",
    "print(\"Profili Statistici Medi per Cluster:\")\n",
    "display(cluster_profiles_pd.set_index('cluster_id'))"
   ]
  },
  {
   "cell_type": "markdown",
   "metadata": {},
   "source": [
    "### Fase 3: Visualizzazione dei Profili con Radar Chart\n",
    "\n",
    "Il radar chart è ideale per confrontare più variabili (le nostre feature) tra diverse categorie (i nostri cluster). Normalizziamo i valori per renderli comparabili sulla stessa scala."
   ]
  },
  {
   "cell_type": "code",
   "execution_count": null,
   "metadata": {},
   "outputs": [],
   "source": [
    "from sklearn.preprocessing import minmax_scale\n",
    "\n",
    "# Preparazione dei dati per il grafico\n",
    "labels = [c.replace('_per_36_min', '').replace('_calc', '').upper() for c in feature_cols]\n",
    "num_vars = len(labels)\n",
    "angles = np.linspace(0, 2 * np.pi, num_vars, endpoint=False).tolist()\n",
    "angles += angles[:1] # Chiude il cerchio\n",
    "\n",
    "# Normalizzazione dei profili per la visualizzazione (scala 0-1)\n",
    "profiles_scaled = cluster_profiles_pd.copy()\n",
    "for col_name in cluster_profiles_pd.columns:\n",
    "    if col_name.startswith('avg_'):\n",
    "        profiles_scaled[col_name] = minmax_scale(profiles_scaled[col_name])\n",
    "\n",
    "# Creazione del radar chart\n",
    "fig, ax = plt.subplots(figsize=(12, 12), subplot_kw=dict(polar=True))\n",
    "\n",
    "for i, row in profiles_scaled.iterrows():\n",
    "    values = row[[f'avg_{col}' for col in feature_cols]].tolist()\n",
    "    values += values[:1] # Chiude il cerchio\n",
    "    ax.plot(angles, values, label=f\"Cluster {row['cluster_id']}\", linewidth=2)\n",
    "    ax.fill(angles, values, alpha=0.15)\n",
    "\n",
    "# Configurazione estetica del grafico\n",
    "ax.set_yticklabels([])\n",
    "ax.set_xticks(angles[:-1])\n",
    "ax.set_xticklabels(labels, size=12)\n",
    "plt.title('Profili Comparati dei Cluster di Giocatori NBA', size=20, color='navy', y=1.1)\n",
    "ax.legend(loc='upper right', bbox_to_anchor=(1.3, 1.1))\n",
    "\n",
    "# Salvataggio della figura\n",
    "reports_dir = '../reports/figures'\n",
    "if not os.path.exists(reports_dir):\n",
    "    os.makedirs(reports_dir)\n",
    "plt.savefig(os.path.join(reports_dir, 'cluster_radar_chart.png'))\n",
    "plt.show()"
   ]
  },
  {
   "cell_type": "markdown",
   "metadata": {},
   "source": [
    "### Fase 4: Esempi di Giocatori per Cluster\n",
    "\n",
    "Per dare un volto ai numeri, identifichiamo alcuni dei giocatori più noti all'interno di ciascun cluster. Questo aiuta a validare l'analisi e a rendere i profili più concreti e riconoscibili."
   ]
  },
  {
   "cell_type": "code",
   "execution_count": null,
   "metadata": {},
   "outputs": [],
   "source": [
    "# Mostra i top 5 giocatori per ogni cluster, ordinati per punti (come proxy di notorietà)\n",
    "print(\"Giocatori Rappresentativi per Cluster:\")\n",
    "for i in range(cluster_profiles_pd.shape[0]):\n",
    "    print(f\"\\n--- Cluster {i} ---\")\n",
    "    clustered_df.filter(col('cluster_id') == i) \\\n",
    "                .orderBy(col('pts_per_36_min').desc()) \\\n",
    "                .select('player', 'season', 'pts_per_36_min', 'trb_per_36_min', 'ast_per_36_min') \\\n",
    "                .show(5, truncate=False)"
   ]
  },
  {
   "cell_type": "code",
   "execution_count": null,
   "metadata": {},
   "outputs": [],
   "source": [
    "# Termina la sessione Spark\n",
    "spark.stop()"
   ]
  }
 ],
 "metadata": {
  "kernelspec": {
   "display_name": ".venv",
   "language": "python",
   "name": "python3"
  },
  "language_info": {
   "codemirror_mode": {
    "name": "ipython",
    "version": 3
   },
   "file_extension": ".py",
   "mimetype": "text/x-python",
   "name": "python",
   "nbconvert_exporter": "python",
   "pygments_lexer": "ipython3",
   "version": "3.13.3"
  }
 },
 "nbformat": 4,
 "nbformat_minor": 4
}
