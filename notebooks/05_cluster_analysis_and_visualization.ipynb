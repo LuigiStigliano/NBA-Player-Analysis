{
 "cells": [
  {
   "cell_type": "markdown",
   "metadata": {},
   "source": [
    "# 5. Analisi e Visualizzazione dei Cluster\n",
    "\n",
    "**Obiettivo:** Interpretare i cluster per definire i diversi \"stili di gioco\". Questa è la fase finale, dove trasformo i numeri in profili comprensibili.\n",
    "\n",
    "1.  **Caricamento Dati:** Leggo i risultati del clustering.\n",
    "2.  **Calcolo dei Profili Medi:** Calcolo le statistiche medie per ogni cluster per creare un \"identikit\" statistico.\n",
    "3.  **Visualizzazione Comparativa (Radar Chart):** Creo un radar chart per confrontare visivamente i profili.\n",
    "4.  **Identificazione di Giocatori Rappresentativi:** Trovo giocatori noti per ogni cluster per dare un volto ai profili."
   ]
  },
  {
   "cell_type": "code",
   "execution_count": null,
   "metadata": {},
   "outputs": [],
   "source": [
    "import os\n",
    "import sys\n",
    "import matplotlib.pyplot as plt\n",
    "import numpy as np\n",
    "import pandas as pd\n",
    "import seaborn as sns\n",
    "from pyspark.sql.functions import col\n",
    "from sklearn.preprocessing import minmax_scale\n",
    "\n",
    "module_path = os.path.abspath(os.path.join('..'))\n",
    "if module_path not in sys.path:\n",
    "    sys.path.append(module_path)\n",
    "\n",
    "from src.clustering.models import get_cluster_profiles\n",
    "from src.config.spark_config import SPARK_CONFIG\n",
    "from src.utils.helpers import get_spark_session\n",
    "\n",
    "project_root = os.path.abspath(os.path.join('..'))\n",
    "processed_data_dir = os.path.join(project_root, \"data\", \"processed\")\n",
    "reports_dir = os.path.join(project_root, \"reports\", \"figures\")\n",
    "clustered_path = os.path.join(processed_data_dir, \"players_clustered.parquet\")\n",
    "adv_metrics_path = os.path.join(processed_data_dir, \"players_advanced_metrics.parquet\")\n",
    "\n",
    "spark = get_spark_session(\n",
    "    app_name=\"NBA_Cluster_Analysis\",\n",
    "    driver_memory=SPARK_CONFIG[\"driver_memory\"]\n",
    ")\n",
    "\n",
    "sns.set_style(\"whitegrid\")"
   ]
  },
  {
   "cell_type": "markdown",
   "metadata": {},
   "source": [
    "### Fase 1: Caricamento dei Risultati e Preparazione Finale\n",
    "\n",
    "Carico i risultati del clustering, rinumero i cluster da 1 a 6 (invece di 0-5) per renderli più leggibili e li unisco con le statistiche complete."
   ]
  },
  {
   "cell_type": "code",
   "execution_count": null,
   "metadata": {},
   "outputs": [],
   "source": [
    "df_clustered_raw = spark.read.parquet(clustered_path)\n",
    "df_full_stats = spark.read.parquet(adv_metrics_path)\n",
    "\n",
    "if 'mp_per_game' not in df_full_stats.columns:\n",
    "    from src.data_processing.normalization import add_per_game_metrics\n",
    "    df_full_stats = add_per_game_metrics(df_full_stats)\n",
    "\n",
    "df_clustered_renum = df_clustered_raw.withColumn(\"cluster_id\", col(\"cluster_id\") + 1)\n",
    "print(\"Numerazione dei cluster aggiornata a 1-6.\")\n",
    "\n",
    "df_final_analysis = df_full_stats.join(\n",
    "    df_clustered_renum.select(\"player\", \"season\", \"cluster_id\"),\n",
    "    [\"player\", \"season\"],\n",
    "    \"inner\"\n",
    ")\n",
    "print(\"Dati di clustering uniti con le statistiche complete.\")\n",
    "\n",
    "feature_cols = [\n",
    "    'pts_per_36_min', 'trb_per_36_min', 'ast_per_36_min', \n",
    "    'stl_per_36_min', 'blk_per_36_min', 'tov_per_36_min',\n",
    "    'ts_pct_calc'\n",
    "]"
   ]
  },
  {
   "cell_type": "markdown",
   "metadata": {},
   "source": [
    "### Fase 2: Analisi dei Profili Medi dei Cluster\n",
    "\n",
    "Per capire cosa definisce ogni cluster, calcolo le statistiche medie delle feature per tutti i giocatori di quel gruppo."
   ]
  },
  {
   "cell_type": "code",
   "execution_count": null,
   "metadata": {},
   "outputs": [],
   "source": [
    "cluster_profiles_df = get_cluster_profiles(df_clustered_renum, feature_cols)\n",
    "cluster_profiles_pd = cluster_profiles_df.toPandas()\n",
    "\n",
    "print(\"Profili Statistici Medi per Cluster (1-6):\")\n",
    "display(cluster_profiles_pd.set_index('cluster_id'))"
   ]
  },
  {
   "cell_type": "markdown",
   "metadata": {},
   "source": [
    "#### Interpretazione della tabella\n",
    "\n",
    "Dalla tabella, inizio già a vedere delle tendenze: un cluster forte in punti e assist, un altro in rimbalzi e stoppate, un altro con pochissime palle perse. Queste sono le prime tracce per definire i profili."
   ]
  },
  {
   "cell_type": "markdown",
   "metadata": {},
   "source": [
    "### Fase 3: Visualizzazione dei Profili con Radar Chart\n",
    "\n",
    "Il radar chart è perfetto per confrontare più variabili tra diverse categorie. Mi darà una visione d'insieme potente e immediata degli stili di gioco."
   ]
  },
  {
   "cell_type": "code",
   "execution_count": null,
   "metadata": {},
   "outputs": [],
   "source": [
    "feature_cols_reordered = [\n",
    "    'pts_per_36_min',\n",
    "    'ts_pct_calc',\n",
    "    'ast_per_36_min',\n",
    "    'tov_per_36_min',\n",
    "    'stl_per_36_min',\n",
    "    'blk_per_36_min',\n",
    "    'trb_per_36_min'\n",
    "]\n",
    "\n",
    "labels = [c.replace('_per_36_min', '').replace('_calc', '').upper() for c in feature_cols_reordered]\n",
    "\n",
    "num_vars = len(labels)\n",
    "angles = np.linspace(0, 2 * np.pi, num_vars, endpoint=False).tolist()\n",
    "angles += angles[:1]\n",
    "\n",
    "profiles_scaled = cluster_profiles_pd.copy()\n",
    "for col_name in cluster_profiles_pd.columns:\n",
    "    if col_name.startswith('avg_'):\n",
    "        profiles_scaled[col_name] = minmax_scale(profiles_scaled[col_name])\n",
    "\n",
    "fig, ax = plt.subplots(figsize=(12, 12), subplot_kw=dict(polar=True))\n",
    "\n",
    "for i, row in profiles_scaled.iterrows():\n",
    "    values = row[[f'avg_{col}' for col in feature_cols_reordered]].tolist()\n",
    "    values += values[:1]\n",
    "    ax.plot(angles, values, label=f\"Cluster {row['cluster_id']}\", linewidth=2)\n",
    "    ax.fill(angles, values, alpha=0.15)\n",
    "\n",
    "ax.set_yticklabels([])\n",
    "ax.set_xticks(angles[:-1])\n",
    "ax.set_xticklabels(labels, size=12)\n",
    "plt.title('Profili Comparati dei Cluster di Giocatori NBA', size=20, color='navy', y=1.1)\n",
    "ax.legend(loc='upper right', bbox_to_anchor=(1.3, 1.1))\n",
    "\n",
    "if not os.path.exists(reports_dir):\n",
    "    os.makedirs(reports_dir)\n",
    "plt.savefig(os.path.join(reports_dir, 'cluster_radar_chart.png'))\n",
    "plt.show()"
   ]
  },
  {
   "cell_type": "markdown",
   "metadata": {},
   "source": [
    "#### Interpretazione del grafico\n",
    "\n",
    "Il radar chart è spettacolare. Ogni poligono è uno stile di gioco. Vedo chiaramente un poligono (le \"All-Around Stars\") che si estende molto su punti e assist, un altro con picchi su rimbalzi e stoppate e uno molto piccolo al centro per i giocatori a basso utilizzo. Le differenze sono evidenti."
   ]
  },
  {
   "cell_type": "markdown",
   "metadata": {},
   "source": [
    "### Fase 4: Esempi di Giocatori per Cluster\n",
    "\n",
    "Per dare un volto ai numeri, identifico alcuni giocatori rappresentativi per ogni cluster, ordinandoli per la statistica più rilevante per quel profilo."
   ]
  },
  {
   "cell_type": "code",
   "execution_count": null,
   "metadata": {},
   "outputs": [],
   "source": [
    "cluster_profiles_map = {\n",
    "    1: \"Ali Forti Moderne / Marcatori-Rimbalzisti\",\n",
    "    2: \"Playmaker Puri / Organizzatori di Gioco\",\n",
    "    3: \"Giocatori di Ruolo a Basso Utilizzo\",\n",
    "    4: \"All-Around Stars / Motori Offensivi\",\n",
    "    5: \"Giocatori Affidabili a Controllo Rischio\",\n",
    "    6: \"Ancore Difensive / Specialisti del Canestro\"\n",
    "}\n",
    "\n",
    "sort_logic = {\n",
    "    1: {\"column\": \"pts_per_36_min\", \"ascending\": False},\n",
    "    2: {\"column\": \"ast_per_36_min\", \"ascending\": False},\n",
    "    3: {\"column\": \"mp_per_game\", \"ascending\": True},\n",
    "    4: {\"column\": \"pts_per_36_min\", \"ascending\": False},\n",
    "    5: {\"column\": \"tov_per_36_min\", \"ascending\": True},\n",
    "    6: {\"column\": \"blk_per_36_min\", \"ascending\": False}\n",
    "}\n",
    "\n",
    "print(\"Giocatori Rappresentativi per Cluster:\")\n",
    "for i, logic in sort_logic.items():\n",
    "    profile = cluster_profiles_map.get(i, f\"Profilo Sconosciuto {i}\")\n",
    "    order_col = logic[\"column\"]\n",
    "    is_ascending = logic[\"ascending\"]\n",
    "\n",
    "    print(f\"\\n--- CLUSTER {i}: {profile} (Ordinato per: {order_col} {'ASC' if is_ascending else 'DESC'}) ---\")\n",
    "    (df_final_analysis.filter(col('cluster_id') == i)\n",
    "                     .orderBy(col(order_col).asc() if is_ascending else col(order_col).desc())\n",
    "                     .select('player', 'season', 'pts_per_36_min', 'trb_per_36_min', 'ast_per_36_min', 'tov_per_36_min', 'ts_pct_calc', 'mp_per_game')\n",
    "                     .show(5, truncate=False)\n",
    "    )"
   ]
  },
  {
   "cell_type": "markdown",
   "metadata": {},
   "source": [
    "#### Interpretazione dell'output\n",
    "\n",
    "Le tabelle mi mostrano nomi che corrispondono perfettamente ai profili che ho definito: Luka Dončić tra le All-Around Stars, Rudy Gobert tra le Ancore Difensive, Chris Paul tra i Playmaker Puri. Questa è la validazione finale più importante del mio lavoro."
   ]
  },
  {
   "cell_type": "markdown",
   "metadata": {},
   "source": [
    "### Conclusione e Prossimi Passi\n",
    "\n",
    "Ho dato un senso ai cluster, trasformandoli in profili di giocatori ben definiti, etichettati e validati.\n",
    "\n",
    "Nel prossimo e ultimo notebook, `06_presentation_visuals.ipynb`, userò queste intuizioni per creare i grafici per la presentazione."
   ]
  },
  {
   "cell_type": "code",
   "execution_count": null,
   "metadata": {},
   "outputs": [],
   "source": [
    "spark.stop()"
   ]
  }
 ],
 "metadata": {
  "kernelspec": {
   "display_name": ".venv",
   "language": "python",
   "name": "python3"
  },
  "language_info": {
   "codemirror_mode": {
    "name": "ipython",
    "version": 3
   },
   "file_extension": ".py",
   "mimetype": "text/x-python",
   "name": "python",
   "nbconvert_exporter": "python",
   "pygments_lexer": "ipython3",
   "version": "3.13.3"
  }
 },
 "nbformat": 4,
 "nbformat_minor": 4
}
