{
 "cells": [
  {
   "cell_type": "markdown",
   "metadata": {},
   "source": [
    "# 2. Analisi Esplorativa dei Dati (EDA)\n",
    "\n",
    "**Obiettivo:** Analizzare il dataset pulito (`players_cleaned.parquet`) per scoprire i primi pattern, identificare trend e capire le relazioni tra le statistiche. Questa fase è fondamentale per farmi un'idea dei dati e guidare le fasi successive.\n",
    "\n",
    "1.  **Caricamento Dati:** Leggo il DataFrame pulito che ho preparato prima.\n",
    "2.  **Analisi dei Leader Statistici:** Identifico i migliori giocatori per punti, rimbalzi e assist nella stagione 2023. È un buon modo per verificare che i dati siano coerenti con la realtà.\n",
    "3.  **Analisi di Distribuzione:** Guardo come sono distribuiti i punti per partita per capire la concentrazione del talento offensivo.\n",
    "4.  **Analisi di Correlazione:** Creo una heatmap per vedere quali statistiche tendono a muoversi insieme."
   ]
  },
  {
   "cell_type": "code",
   "execution_count": null,
   "metadata": {},
   "outputs": [],
   "source": [
    "import os\n",
    "import sys\n",
    "import matplotlib.pyplot as plt\n",
    "import seaborn as sns\n",
    "from pyspark.sql.functions import desc\n",
    "\n",
    "module_path = os.path.abspath(os.path.join('..'))\n",
    "if module_path not in sys.path:\n",
    "    sys.path.append(module_path)\n",
    "\n",
    "from src.config.spark_config import SPARK_CONFIG\n",
    "from src.utils.helpers import get_spark_session\n",
    "\n",
    "project_root = os.path.abspath(os.path.join('..'))\n",
    "processed_data_dir = os.path.join(project_root, \"data\", \"processed\")\n",
    "cleaned_df_path = os.path.join(processed_data_dir, \"players_cleaned.parquet\")\n",
    "\n",
    "spark = get_spark_session(\n",
    "    app_name=\"NBA_EDA\",\n",
    "    driver_memory=SPARK_CONFIG[\"driver_memory\"]\n",
    ")\n",
    "\n",
    "sns.set_style(\"whitegrid\")\n",
    "plt.rcParams['figure.figsize'] = (12, 8)"
   ]
  },
  {
   "cell_type": "markdown",
   "metadata": {},
   "source": [
    "### Fase 1: Caricamento dei Dati Puliti\n",
    "\n",
    "Inizio caricando il DataFrame `players_cleaned.parquet` e verifico che lo schema sia corretto."
   ]
  },
  {
   "cell_type": "code",
   "execution_count": null,
   "metadata": {},
   "outputs": [],
   "source": [
    "df = spark.read.parquet(cleaned_df_path)\n",
    "\n",
    "print(\"Schema del DataFrame caricato:\")\n",
    "df.printSchema()"
   ]
  },
  {
   "cell_type": "markdown",
   "metadata": {},
   "source": [
    "#### Interpretazione dell'output\n",
    "\n",
    "Ottimo, lo schema è corretto. Le colonne numeriche sono `double`, quindi sono pronto per iniziare l'esplorazione."
   ]
  },
  {
   "cell_type": "markdown",
   "metadata": {},
   "source": [
    "### Fase 2: Analisi dei Leader Statistici (Stagione 2023)\n",
    "\n",
    "Per assicurarmi che i dati siano sensati, filtro per la stagione 2023 e vedo chi sono i leader nelle statistiche principali. È una sorta di \"controllo di sanità mentale\"."
   ]
  },
  {
   "cell_type": "code",
   "execution_count": null,
   "metadata": {},
   "outputs": [],
   "source": [
    "df_2023 = df.filter(df.season == 2023)\n",
    "\n",
    "print(\"Top 10 Marcatori (Punti Totali) - Stagione 2023\")\n",
    "df_2023.orderBy(desc(\"pts\")).select(\"player\", \"pts\").show(10)\n",
    "\n",
    "print(\"Top 10 Rimbalzisti (Rimbalzi Totali) - Stagione 2023\")\n",
    "df_2023.orderBy(desc(\"trb\")).select(\"player\", \"trb\").show(10)\n",
    "\n",
    "print(\"Top 10 Assistmen (Assist Totali) - Stagione 2023\")\n",
    "df_2023.orderBy(desc(\"ast\")).select(\"player\", \"ast\").show(10)"
   ]
  },
  {
   "cell_type": "markdown",
   "metadata": {},
   "source": [
    "#### Interpretazione dell'output\n",
    "\n",
    "I nomi che vedo (Tatum, Sabonis, Young) sono quelli che mi aspettavo. Questo mi conferma che i dati sono accurati e posso fidarmi per le analisi successive."
   ]
  },
  {
   "cell_type": "markdown",
   "metadata": {},
   "source": [
    "### Fase 3: Distribuzione dei Punti per Partita (Stagione 2023)\n",
    "\n",
    "Creo un istogramma per vedere come si distribuisce la media punti per partita. Questo mi aiuta a capire quanti giocatori sono d'élite, quanti sono nella media e quanti sono giocatori di ruolo."
   ]
  },
  {
   "cell_type": "code",
   "execution_count": null,
   "metadata": {},
   "outputs": [],
   "source": [
    "ppg_df = df_2023.withColumn(\"ppg\", df_2023.pts / df_2023.g).select(\"ppg\").toPandas()\n",
    "\n",
    "plt.figure(figsize=(14, 7))\n",
    "sns.histplot(ppg_df['ppg'], bins=30, kde=True)\n",
    "plt.title('Distribuzione dei Punti per Partita (PPG) - Stagione 2023', fontsize=16)\n",
    "plt.xlabel('Punti per Partita (PPG)', fontsize=12)\n",
    "plt.ylabel('Numero di Giocatori', fontsize=12)\n",
    "plt.show()"
   ]
  },
  {
   "cell_type": "markdown",
   "metadata": {},
   "source": [
    "#### Interpretazione del grafico\n",
    "\n",
    "Il grafico mostra una distribuzione asimmetrica a destra. La maggior parte dei giocatori si concentra nella fascia bassa (0-10 PPG), mentre i realizzatori d'élite sono una piccola minoranza. È una forma tipica delle distribuzioni di talento."
   ]
  },
  {
   "cell_type": "markdown",
   "metadata": {},
   "source": [
    "### Fase 4: Correlazione tra le Statistiche di Base\n",
    "\n",
    "Uso una heatmap per vedere quali statistiche sono correlate tra loro. È un modo veloce per scoprire relazioni interessanti."
   ]
  },
  {
   "cell_type": "code",
   "execution_count": null,
   "metadata": {},
   "outputs": [],
   "source": [
    "stats_df = df_2023.select(\"pts\", \"trb\", \"ast\", \"stl\", \"blk\").toPandas()\n",
    "\n",
    "plt.figure(figsize=(10, 8))\n",
    "correlation_matrix = stats_df.corr()\n",
    "sns.heatmap(correlation_matrix, annot=True, cmap='coolwarm', fmt=\".2f\")\n",
    "plt.title('Matrice di Correlazione tra Statistiche di Base - Stagione 2023', fontsize=16)\n",
    "plt.show()"
   ]
  },
  {
   "cell_type": "markdown",
   "metadata": {},
   "source": [
    "#### Interpretazione del grafico\n",
    "\n",
    "La heatmap mi mostra che c'è una forte correlazione positiva tra punti e assist (0.69), tipica delle superstar. C'è anche una correlazione moderata tra rimbalzi e stoppate (0.50), tipica dei lunghi. Questo mi suggerisce già che esistono diversi \"profili\" di giocatori, che andrò a definire formalmente con il clustering."
   ]
  },
  {
   "cell_type": "markdown",
   "metadata": {},
   "source": [
    "### Conclusione e Prossimi Passi\n",
    "\n",
    "L'analisi esplorativa mi ha dato delle buone intuizioni. Ho verificato la qualità dei dati e ho già intravisto delle relazioni interessanti.\n",
    "\n",
    "Nel prossimo notebook, `03_advanced_metrics_calculation.ipynb`, passerò al calcolo di metriche più avanzate per descrivere meglio le performance."
   ]
  },
  {
   "cell_type": "code",
   "execution_count": null,
   "metadata": {},
   "outputs": [],
   "source": [
    "spark.stop()"
   ]
  }
 ],
 "metadata": {
  "kernelspec": {
   "display_name": ".venv",
   "language": "python",
   "name": "python3"
  },
  "language_info": {
   "codemirror_mode": {
    "name": "ipython",
    "version": 3
   },
   "file_extension": ".py",
   "mimetype": "text/x-python",
   "name": "python",
   "nbconvert_exporter": "python",
   "pygments_lexer": "ipython3",
   "version": "3.13.3"
  }
 },
 "nbformat": 4,
 "nbformat_minor": 4
}
