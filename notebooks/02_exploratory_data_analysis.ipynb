{
 "cells": [
  {
   "cell_type": "markdown",
   "metadata": {},
   "source": [
    "# 2. Analisi Esplorativa dei Dati (EDA)\n",
    "\n",
    "**Obiettivo:** Analizzare i dati puliti per scoprire pattern, identificare trend e anomalie, e comprendere le relazioni tra le diverse statistiche dei giocatori.\n",
    "\n",
    "**Fasi:**\n",
    "1.  **Caricamento Dati:** Lettura del DataFrame pulito (formato Parquet).\n",
    "2.  **Analisi Leader Statistici:** Identificazione dei top performer per punti, rimbalzi e assist in una stagione recente (2023).\n",
    "3.  **Analisi di Distribuzione:** Visualizzazione della distribuzione dei punti per partita (PPG) per capire la concentrazione del talento offensivo.\n",
    "4.  **Analisi di Correlazione:** Creazione di una heatmap per esplorare le relazioni lineari tra le principali statistiche."
   ]
  },
  {
   "cell_type": "code",
   "execution_count": null,
   "metadata": {},
   "outputs": [],
   "source": [
    "import os\n",
    "import sys\n",
    "import matplotlib.pyplot as plt\n",
    "import seaborn as sns\n",
    "from pyspark.sql.functions import desc\n",
    "\n",
    "# Aggiunge la root del progetto al sys.path\n",
    "module_path = os.path.abspath(os.path.join('..'))\n",
    "if module_path not in sys.path:\n",
    "    sys.path.append(module_path)\n",
    "\n",
    "# Importazione delle utility, della configurazione e inizializzazione di Spark\n",
    "from src.utils.helpers import get_spark_session\n",
    "from src.config.spark_config import SPARK_CONFIG\n",
    "\n",
    "# Inizializza la sessione Spark\n",
    "spark = get_spark_session(\n",
    "    app_name=\"NBA_EDA\",\n",
    "    driver_memory=SPARK_CONFIG[\"driver_memory\"]\n",
    ")\n",
    "\n",
    "# Impostazioni standard per i grafici\n",
    "sns.set_style(\"whitegrid\")\n",
    "plt.rcParams['figure.figsize'] = (12, 8)"
   ]
  },
  {
   "cell_type": "markdown",
   "metadata": {},
   "source": [
    "### Fase 1: Caricamento dei Dati Puliti"
   ]
  },
  {
   "cell_type": "code",
   "execution_count": null,
   "metadata": {},
   "outputs": [],
   "source": [
    "# Percorso del file Parquet contenente i dati puliti\n",
    "cleaned_df_path = \"../data/processed/players_cleaned.parquet\"\n",
    "df = spark.read.parquet(cleaned_df_path)\n",
    "\n",
    "# Stampa dello schema per verificare il corretto caricamento\n",
    "print(\"Schema del DataFrame caricato:\")\n",
    "df.printSchema()"
   ]
  },
  {
   "cell_type": "markdown",
   "metadata": {},
   "source": [
    "### Fase 2: Analisi dei Leader Statistici (Stagione 2023)\n",
    "\n",
    "Filtriamo i dati per la stagione 2023 per analizzare le performance dei giocatori attuali e identificare i leader nelle categorie principali."
   ]
  },
  {
   "cell_type": "code",
   "execution_count": null,
   "metadata": {},
   "outputs": [],
   "source": [
    "# Filtra il DataFrame per la stagione 2023\n",
    "df_2023 = df.filter(df.season == 2023)\n",
    "\n",
    "# Identifica e visualizza i top 10 marcatori\n",
    "print(\"Top 10 Marcatori (Punti Totali) - Stagione 2023\")\n",
    "df_2023.orderBy(desc(\"pts\")).select(\"player\", \"pts\").show(10)\n",
    "\n",
    "# Identifica e visualizza i top 10 rimbalzisti\n",
    "print(\"Top 10 Rimbalzisti (Rimbalzi Totali) - Stagione 2023\")\n",
    "df_2023.orderBy(desc(\"trb\")).select(\"player\", \"trb\").show(10)\n",
    "\n",
    "# Identifica e visualizza i top 10 assistmen\n",
    "print(\"Top 10 Assistmen (Assist Totali) - Stagione 2023\")\n",
    "df_2023.orderBy(desc(\"ast\")).select(\"player\", \"ast\").show(10)"
   ]
  },
  {
   "cell_type": "markdown",
   "metadata": {},
   "source": [
    "### Fase 3: Distribuzione dei Punti per Partita (Stagione 2023)\n",
    "\n",
    "Creiamo un istogramma per visualizzare come si distribuisce la media punti per partita (PPG) tra tutti i giocatori. Questo ci aiuta a capire quanti giocatori sono di élite, quanti sono nella media e quanti sono giocatori di ruolo."
   ]
  },
  {
   "cell_type": "code",
   "execution_count": null,
   "metadata": {},
   "outputs": [],
   "source": [
    "# Calcola i punti per partita (PPG) e converte in Pandas per la visualizzazione\n",
    "ppg_df = df_2023.withColumn(\"ppg\", df_2023.pts / df_2023.g).select(\"ppg\").toPandas()\n",
    "\n",
    "# Creazione dell'istogramma della distribuzione\n",
    "plt.figure(figsize=(14, 7))\n",
    "sns.histplot(ppg_df['ppg'], bins=30, kde=True)\n",
    "plt.title('Distribuzione dei Punti per Partita (PPG) - Stagione 2023', fontsize=16)\n",
    "plt.xlabel('Punti per Partita (PPG)', fontsize=12)\n",
    "plt.ylabel('Numero di Giocatori', fontsize=12)\n",
    "plt.show()"
   ]
  },
  {
   "cell_type": "markdown",
   "metadata": {},
   "source": [
    "### Fase 4: Correlazione tra le Statistiche di Base\n",
    "\n",
    "Utilizziamo una heatmap per visualizzare la matrice di correlazione. Questo ci permette di identificare rapidamente quali statistiche tendono a muoversi insieme (es. punti e assist)."
   ]
  },
  {
   "cell_type": "code",
   "execution_count": null,
   "metadata": {},
   "outputs": [],
   "source": [
    "# Seleziona le colonne numeriche di interesse e converte in Pandas\n",
    "stats_df = df_2023.select(\"pts\", \"trb\", \"ast\", \"stl\", \"blk\").toPandas()\n",
    "\n",
    "# Calcola e visualizza la matrice di correlazione\n",
    "plt.figure(figsize=(10, 8))\n",
    "correlation_matrix = stats_df.corr()\n",
    "sns.heatmap(correlation_matrix, annot=True, cmap='coolwarm', fmt=\".2f\")\n",
    "plt.title('Matrice di Correlazione tra Statistiche di Base - Stagione 2023', fontsize=16)\n",
    "plt.show()"
   ]
  },
  {
   "cell_type": "code",
   "execution_count": null,
   "metadata": {},
   "outputs": [],
   "source": [
    "# Termina la sessione Spark\n",
    "spark.stop()"
   ]
  }
 ],
 "metadata": {
  "kernelspec": {
   "display_name": ".venv",
   "language": "python",
   "name": "python3"
  },
  "language_info": {
   "codemirror_mode": {
    "name": "ipython",
    "version": 3
   },
   "file_extension": ".py",
   "mimetype": "text/x-python",
   "name": "python",
   "nbconvert_exporter": "python",
   "pygments_lexer": "ipython3",
   "version": "3.13.3"
  }
 },
 "nbformat": 4,
 "nbformat_minor": 4
}
