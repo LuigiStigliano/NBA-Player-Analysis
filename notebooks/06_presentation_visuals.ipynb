{
 "cells": [
  {
   "cell_type": "markdown",
   "metadata": {},
   "source": [
    "# 6. Generazione delle Visualizzazioni per la Presentazione\n",
    "\n",
    "**Obiettivo:** Creare e salvare una serie di grafici di alta qualità, pensati per comunicare i risultati chiave del mio progetto in una presentazione. Questo è l'ultimo passo, focalizzato sulla comunicazione visiva.\n",
    "\n",
    "**Logica:** Ogni cella genera una visualizzazione specifica per una slide, e la salva come immagine PNG."
   ]
  },
  {
   "cell_type": "code",
   "execution_count": null,
   "metadata": {},
   "outputs": [],
   "source": [
    "import os\n",
    "import sys\n",
    "import matplotlib.pyplot as plt\n",
    "import pandas as pd\n",
    "import seaborn as sns\n",
    "from pyspark.sql.functions import avg, col, desc\n",
    "\n",
    "module_path = os.path.abspath(os.path.join('..'))\n",
    "if module_path not in sys.path:\n",
    "    sys.path.append(module_path)\n",
    "\n",
    "from src.clustering.models import get_cluster_profiles\n",
    "from src.config.spark_config import SPARK_CONFIG\n",
    "from src.utils.helpers import get_spark_session\n",
    "\n",
    "project_root = os.path.abspath(os.path.join('..'))\n",
    "processed_data_dir = os.path.join(project_root, \"data\", \"processed\")\n",
    "adv_metrics_path = os.path.join(processed_data_dir, \"players_advanced_metrics.parquet\")\n",
    "clustered_path = os.path.join(processed_data_dir, \"players_clustered.parquet\")\n",
    "FIG_OUTPUT_PATH = os.path.join(project_root, \"reports\", \"figures\")\n",
    "os.makedirs(FIG_OUTPUT_PATH, exist_ok=True)\n",
    "\n",
    "spark = get_spark_session(\n",
    "    app_name=\"NBA_Presentation_Visuals\",\n",
    "    driver_memory=SPARK_CONFIG[\"driver_memory\"]\n",
    ")\n",
    "\n",
    "sns.set_theme(style=\"whitegrid\")\n",
    "print(f\"I grafici verranno salvati in: {os.path.abspath(FIG_OUTPUT_PATH)}\")"
   ]
  },
  {
   "cell_type": "markdown",
   "metadata": {},
   "source": [
    "### Caricamento dei Dati Necessari\n",
    "\n",
    "Carico sia il dataset con le metriche avanzate sia quello con i risultati del clustering."
   ]
  },
  {
   "cell_type": "code",
   "execution_count": null,
   "metadata": {},
   "outputs": [],
   "source": [
    "df_adv_metrics = spark.read.parquet(adv_metrics_path)\n",
    "df_clustered = spark.read.parquet(clustered_path)\n",
    "df_clustered = df_clustered.withColumn(\"cluster_id\", col(\"cluster_id\") + 1)"
   ]
  },
  {
   "cell_type": "markdown",
   "metadata": {},
   "source": [
    "### Grafico 1: L'Effetto della Normalizzazione\n",
    "\n",
    "**Scopo:** Mostrare perché la normalizzazione \"per 36 minuti\" è fondamentale per un confronto equo."
   ]
  },
  {
   "cell_type": "code",
   "execution_count": null,
   "metadata": {},
   "outputs": [],
   "source": [
    "df_2023 = df_adv_metrics.filter(col('season') == 2023)\n",
    "\n",
    "starter = df_2023.orderBy(desc(\"mp\")).first()\n",
    "median_mp = df_2023.approxQuantile(\"mp\", [0.5], 0.01)[0]\n",
    "reserve = df_2023.filter(col('mp') >= median_mp).orderBy(\"mp\").first()\n",
    "\n",
    "plot_data = pd.DataFrame([\n",
    "    {'player': starter['player'], 'type': 'Punti Totali', 'value': starter['pts']},\n",
    "    {'player': starter['player'], 'type': 'Punti per 36 min', 'value': starter['pts_per_36_min']},\n",
    "    {'player': reserve['player'], 'type': 'Punti Totali', 'value': reserve['pts']},\n",
    "    {'player': reserve['player'], 'type': 'Punti per 36 min', 'value': reserve['pts_per_36_min']}\n",
    "])\n",
    "\n",
    "plt.figure(figsize=(10, 6))\n",
    "sns.barplot(data=plot_data, x='player', y='value', hue='type', palette=['#ff7f0e', '#1f77b4'])\n",
    "plt.title('Effetto della Normalizzazione: Titolare vs. Riserva', fontsize=16)\n",
    "plt.ylabel('Valore Statistico (Punti)')\n",
    "plt.xlabel('Giocatore')\n",
    "plt.legend(title='Tipo di Statistica')\n",
    "plt.tight_layout()\n",
    "plt.savefig(os.path.join(FIG_OUTPUT_PATH, 'slide_7_normalization_effect.png'))\n",
    "plt.show()"
   ]
  },
  {
   "cell_type": "markdown",
   "metadata": {},
   "source": [
    "#### Interpretazione del grafico\n",
    "\n",
    "Il grafico mostra bene come il giocatore di riserva, pur avendo meno punti totali, mostri un impatto per 36 minuti comparabile a quello del titolare. Questo dimostra l'importanza della normalizzazione."
   ]
  },
  {
   "cell_type": "markdown",
   "metadata": {},
   "source": [
    "### Grafico 2: Top 10 Giocatori per True Shooting % (TS%)\n",
    "\n",
    "**Scopo:** Evidenziare i giocatori più efficienti al tiro."
   ]
  },
  {
   "cell_type": "code",
   "execution_count": null,
   "metadata": {},
   "outputs": [],
   "source": [
    "top_ts_players = df_adv_metrics.filter((col('season') == 2023) & (col('fga') > 250)) \\\n",
    "                                .orderBy(desc(\"ts_pct_calc\")) \\\n",
    "                                .limit(10) \\\n",
    "                                .toPandas()\n",
    "\n",
    "plt.figure(figsize=(12, 8))\n",
    "sns.barplot(data=top_ts_players, x='ts_pct_calc', y='player', palette='viridis')\n",
    "plt.title('Top 10 Giocatori per Efficienza al Tiro (TS%) - Stagione 2023', fontsize=16)\n",
    "plt.xlabel('True Shooting Percentage (TS%)')\n",
    "plt.ylabel('Giocatore')\n",
    "plt.tight_layout()\n",
    "plt.savefig(os.path.join(FIG_OUTPUT_PATH, 'slide_8_top_ts_players.png'))\n",
    "plt.show()"
   ]
  },
  {
   "cell_type": "markdown",
   "metadata": {},
   "source": [
    "#### Interpretazione del grafico\n",
    "\n",
    "Questo grafico mostra chiaramente chi sono i finalizzatori più efficienti della lega, una metrica chiave che ho usato anche nel mio clustering."
   ]
  },
  {
   "cell_type": "markdown",
   "metadata": {},
   "source": [
    "### Grafici 3-8: Confronto per Ciascun Cluster\n",
    "\n",
    "**Scopo:** Creare un grafico per ogni cluster che ne evidenzi le peculiarità rispetto alla media."
   ]
  },
  {
   "cell_type": "code",
   "execution_count": null,
   "metadata": {},
   "outputs": [],
   "source": [
    "feature_cols = [\n",
    "    'pts_per_36_min', 'trb_per_36_min', 'ast_per_36_min', \n",
    "    'stl_per_36_min', 'blk_per_36_min', 'tov_per_36_min',\n",
    "    'ts_pct_calc'\n",
    "]\n",
    "overall_averages = df_clustered.select([avg(c).alias(c) for c in feature_cols]).collect()[0].asDict()\n",
    "\n",
    "cluster_profiles_df = get_cluster_profiles(df_clustered, feature_cols).toPandas().set_index('cluster_id')\n",
    "\n",
    "def plot_cluster_comparison(cluster_id, stats_to_plot, cluster_profiles, overall_avg, color, save_name, title):\n",
    "    data_list = []\n",
    "    for stat in stats_to_plot:\n",
    "        clean_stat_name = stat.replace('_per_36_min', '').replace('_calc', '').upper()\n",
    "        data_list.append({'stat': clean_stat_name, 'type': f'Cluster {cluster_id}', 'value': cluster_profiles.loc[cluster_id, f'avg_{stat}']})\n",
    "        data_list.append({'stat': clean_stat_name, 'type': 'Media Generale', 'value': overall_avg[stat]})\n",
    "    \n",
    "    plot_df = pd.DataFrame(data_list)\n",
    "    \n",
    "    plt.figure(figsize=(8, 5))\n",
    "    sns.barplot(data=plot_df, x='stat', y='value', hue='type', palette=[color, 'lightgray'])\n",
    "    plt.title(title, fontsize=14)\n",
    "    plt.ylabel('Valore Medio Normalizzato')\n",
    "    plt.xlabel('Statistica')\n",
    "    plt.legend(title=None)\n",
    "    plt.tight_layout()\n",
    "    plt.savefig(os.path.join(FIG_OUTPUT_PATH, save_name))\n",
    "    plt.show()\n",
    "\n",
    "plot_cluster_comparison(1, ['pts_per_36_min', 'trb_per_36_min'], cluster_profiles_df, overall_averages, '#1f77b4', 'slide_11_cluster_1.png', 'Cluster 1 (Marcatori-Rimbalzisti): Punti e Rimbalzi')\n",
    "plot_cluster_comparison(2, ['ast_per_36_min', 'stl_per_36_min'], cluster_profiles_df, overall_averages, '#2ca02c', 'slide_12_cluster_2.png', 'Cluster 2 (Playmaker Puri): Assist e Palle Rubate')\n",
    "plot_cluster_comparison(3, ['pts_per_36_min', 'ast_per_36_min'], cluster_profiles_df, overall_averages, '#d62728', 'slide_13_cluster_3.png', 'Cluster 3 (Giocatori di Ruolo): Contributo Generale')\n",
    "plot_cluster_comparison(4, ['pts_per_36_min', 'ast_per_36_min'], cluster_profiles_df, overall_averages, '#ffd700', 'slide_14_cluster_4.png', 'Cluster 4 (All-Around Stars): Punti e Assist')\n",
    "plot_cluster_comparison(5, ['tov_per_36_min'], cluster_profiles_df, overall_averages, '#ff7f0e', 'slide_15_cluster_5.png', 'Cluster 5 (Controllo Rischio): Palle Perse')\n",
    "plot_cluster_comparison(6, ['trb_per_36_min', 'blk_per_36_min'], cluster_profiles_df, overall_averages, '#9467bd', 'slide_16_cluster_6.png', 'Cluster 6 (Ancore Difensive): Rimbalzi e Stoppate')"
   ]
  },
  {
   "cell_type": "markdown",
   "metadata": {},
   "source": [
    "#### Interpretazione dei grafici\n",
    "\n",
    "Questa serie di grafici mi permette di raccontare una storia chiara per ogni profilo:\n",
    "\n",
    "- **Cluster 1 (Blu)**: Supera la media in punti e rimbalzi, confermando il suo ruolo di **Marcatore-Rimbalzista**.\n",
    "- **Cluster 2 (Verde)**: Eccelle in assist e palle rubate, definendolo come **Playmaker Puro**.\n",
    "- **Cluster 3 (Rosso)**: Le sue barre sono sotto la media, visualizzando il suo profilo di **Giocatore di Ruolo**.\n",
    "- **Cluster 4 (Oro)**: Domina in punti e assist, evidenziando il suo ruolo di **All-Around Stars**.\n",
    "- **Cluster 5 (Arancione)**: Si distingue per le bassissime palle perse, il suo marchio di fabbrica come **Giocatore a Controllo Rischio**.\n",
    "- **Cluster 6 (Viola)**: Eccelle in rimbalzi e stoppate, definendolo come **Ancora Difensiva**.\n",
    "\n",
    "Ogni grafico è perfetto per una slide della presentazione."
   ]
  },
  {
   "cell_type": "markdown",
   "metadata": {},
   "source": [
    "### Conclusione dei Notebook\n",
    "\n",
    "Ho generato e salvato tutti i grafici che mi servono per comunicare efficacemente i risultati della mia analisi. Ogni visualizzazione è pronta per essere importata nelle slide. Il mio progetto, dalla preparazione dati alla comunicazione dei risultati, è ora completo."
   ]
  },
  {
   "cell_type": "code",
   "execution_count": null,
   "metadata": {},
   "outputs": [],
   "source": [
    "spark.stop()"
   ]
  }
 ],
 "metadata": {
  "kernelspec": {
   "display_name": ".venv",
   "language": "python",
   "name": "python3"
  },
  "language_info": {
   "codemirror_mode": {
    "name": "ipython",
    "version": 3
   },
   "file_extension": ".py",
   "mimetype": "text/x-python",
   "name": "python",
   "nbconvert_exporter": "python",
   "pygments_lexer": "ipython3",
   "version": "3.13.3"
  }
 },
 "nbformat": 4,
 "nbformat_minor": 4
}
