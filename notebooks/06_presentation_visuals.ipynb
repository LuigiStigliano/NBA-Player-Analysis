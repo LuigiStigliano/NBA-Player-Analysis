{
 "cells": [
  {
   "cell_type": "markdown",
   "metadata": {},
   "source": [
    "# 6. Generazione delle Visualizzazioni per la Presentazione\n",
    "\n",
    "**Obiettivo:** Creare e salvare i grafici specifici progettati per la presentazione finale del progetto.\n",
    "\n",
    "**Logica:** Ogni cella di codice è dedicata a generare una visualizzazione per una specifica slide."
   ]
  },
  {
   "cell_type": "code",
   "execution_count": null,
   "metadata": {},
   "outputs": [],
   "source": [
    "import os\n",
    "import sys\n",
    "import pandas as pd\n",
    "import matplotlib.pyplot as plt\n",
    "import seaborn as sns\n",
    "from pyspark.sql.functions import desc, col, avg\n",
    "\n",
    "# Aggiunge la root del progetto al sys.path\n",
    "module_path = os.path.abspath(os.path.join('..'))\n",
    "if module_path not in sys.path:\n",
    "    sys.path.append(module_path)\n",
    "\n",
    "# Importazione delle utility\n",
    "from src.utils.helpers import get_spark_session\n",
    "from src.clustering.models import get_cluster_profiles\n",
    "\n",
    "# Inizializzazione della sessione Spark\n",
    "spark = get_spark_session(app_name=\"NBA_Presentation_Visuals\")\n",
    "\n",
    "# Impostazioni globali per i grafici\n",
    "sns.set_theme(style=\"whitegrid\")\n",
    "FIG_OUTPUT_PATH = \"../reports/figures\"\n",
    "os.makedirs(FIG_OUTPUT_PATH, exist_ok=True)\n",
    "print(f\"I grafici verranno salvati in: {os.path.abspath(FIG_OUTPUT_PATH)}\")"
   ]
  },
  {
   "cell_type": "markdown",
   "metadata": {},
   "source": [
    "### Caricamento dei Dati Necessari\n",
    "Carichiamo sia il dataset con le metriche avanzate (per analisi pre-clustering) sia quello con i risultati del clustering."
   ]
  },
  {
   "cell_type": "code",
   "execution_count": null,
   "metadata": {},
   "outputs": [],
   "source": [
    "# Percorsi dei file Parquet\n",
    "adv_metrics_path = \"../data/processed/players_advanced_metrics.parquet\"\n",
    "clustered_path = \"../data/processed/players_clustered.parquet\"\n",
    "\n",
    "# Caricamento dei DataFrame\n",
    "df_adv_metrics = spark.read.parquet(adv_metrics_path)\n",
    "df_clustered = spark.read.parquet(clustered_path)"
   ]
  },
  {
   "cell_type": "markdown",
   "metadata": {},
   "source": [
    "### Grafico sull'Effetto della Normalizzazione\n",
    "\n",
    "Mostriamo come la normalizzazione 'per 36 minuti' permetta un confronto più significativo tra un giocatore titolare (con alto minutaggio) e una riserva (con minutaggio inferiore), rivelandone il potenziale impatto."
   ]
  },
  {
   "cell_type": "code",
   "execution_count": null,
   "metadata": {},
   "outputs": [],
   "source": [
    "# Filtra per la stagione 2023\n",
    "df_2023 = df_adv_metrics.filter(col('season') == 2023)\n",
    "\n",
    "# Selezione di un titolare e una riserva per il confronto\n",
    "starter = df_2023.orderBy(desc(\"mp\")).first()\n",
    "median_mp = df_2023.approxQuantile(\"mp\", [0.5], 0.01)[0]\n",
    "reserve = df_2023.filter(col('mp') >= median_mp).orderBy(\"mp\").first()\n",
    "\n",
    "# Preparazione dei dati per il grafico\n",
    "plot_data = pd.DataFrame([\n",
    "    {'player': starter['player'], 'type': 'Punti Totali', 'value': starter['pts']},\n",
    "    {'player': starter['player'], 'type': 'Punti per 36 min', 'value': starter['pts_per_36_min']},\n",
    "    {'player': reserve['player'], 'type': 'Punti Totali', 'value': reserve['pts']},\n",
    "    {'player': reserve['player'], 'type': 'Punti per 36 min', 'value': reserve['pts_per_36_min']}\n",
    "])\n",
    "\n",
    "# Creazione del grafico a barre\n",
    "plt.figure(figsize=(10, 6))\n",
    "sns.barplot(data=plot_data, x='player', y='value', hue='type', palette=['#ff7f0e', '#1f77b4'])\n",
    "plt.title('Effetto della Normalizzazione: Titolare vs. Riserva', fontsize=16)\n",
    "plt.ylabel('Valore Statistico (Punti)')\n",
    "plt.xlabel('Giocatore')\n",
    "plt.legend(title='Tipo di Statistica')\n",
    "plt.tight_layout()\n",
    "plt.savefig(os.path.join(FIG_OUTPUT_PATH, 'slide_7_normalization_effect.png'))\n",
    "plt.show()"
   ]
  },
  {
   "cell_type": "markdown",
   "metadata": {},
   "source": [
    "### Grafico Top 10 Giocatori per True Shooting % (TS%)\n",
    "\n",
    "Evidenziamo i giocatori più efficienti al tiro nella stagione 2023. Filtriamo per un numero minimo di tiri tentati (`fga > 250`) per escludere giocatori con campioni troppo piccoli."
   ]
  },
  {
   "cell_type": "code",
   "execution_count": null,
   "metadata": {},
   "outputs": [],
   "source": [
    "# Seleziona i top 10 giocatori per TS% con un volume di tiri significativo\n",
    "top_ts_players = df_adv_metrics.filter((col('season') == 2023) & (col('fga') > 250)) \\\n",
    "                                .orderBy(desc(\"ts_pct_calc\")) \\\n",
    "                                .limit(10) \\\n",
    "                                .toPandas()\n",
    "\n",
    "# Creazione del grafico a barre orizzontale\n",
    "plt.figure(figsize=(12, 8))\n",
    "sns.barplot(data=top_ts_players, x='ts_pct_calc', y='player', palette='viridis')\n",
    "plt.title('Top 10 Giocatori per Efficienza al Tiro (TS%) - Stagione 2023', fontsize=16)\n",
    "plt.xlabel('True Shooting Percentage (TS%)')\n",
    "plt.ylabel('Giocatore')\n",
    "plt.tight_layout()\n",
    "plt.savefig(os.path.join(FIG_OUTPUT_PATH, 'slide_8_top_ts_players.png'))\n",
    "plt.show()"
   ]
  },
  {
   "cell_type": "markdown",
   "metadata": {},
   "source": [
    "### Grafici di Confronto per Ciascun Cluster\n",
    "\n",
    "Generiamo un grafico per ogni cluster, confrontando le sue statistiche chiave con la media generale della lega per evidenziarne le peculiarità."
   ]
  },
  {
   "cell_type": "code",
   "execution_count": null,
   "metadata": {},
   "outputs": [],
   "source": [
    "# 1. Calcolo delle medie generali per tutte le feature\n",
    "feature_cols = [\n",
    "    'pts_per_36_min', 'trb_per_36_min', 'ast_per_36_min', \n",
    "    'stl_per_36_min', 'blk_per_36_min', 'tov_per_36_min',\n",
    "    'ts_pct_calc'\n",
    "]\n",
    "overall_averages = df_clustered.select([avg(c).alias(c) for c in feature_cols]).collect()[0].asDict()\n",
    "\n",
    "# 2. Calcolo dei profili medi per cluster\n",
    "cluster_profiles_df = get_cluster_profiles(df_clustered, feature_cols).toPandas().set_index('cluster_id')\n",
    "\n",
    "# 3. Funzione di plotting riutilizzabile\n",
    "def plot_cluster_comparison(cluster_id, stats_to_plot, cluster_profiles, overall_avg, color, save_name, title):\n",
    "    data_list = []\n",
    "    for stat in stats_to_plot:\n",
    "        clean_stat_name = stat.replace('_per_36_min', '').replace('_calc', '').upper()\n",
    "        data_list.append({'stat': clean_stat_name, 'type': f'Cluster {cluster_id}', 'value': cluster_profiles.loc[cluster_id, f'avg_{stat}']})\n",
    "        data_list.append({'stat': clean_stat_name, 'type': 'Media Generale', 'value': overall_avg[stat]})\n",
    "    \n",
    "    plot_df = pd.DataFrame(data_list)\n",
    "    \n",
    "    plt.figure(figsize=(8, 5))\n",
    "    sns.barplot(data=plot_df, x='stat', y='value', hue='type', palette=[color, 'lightgray'])\n",
    "    plt.title(title, fontsize=14)\n",
    "    plt.ylabel('Valore Medio Normalizzato')\n",
    "    plt.xlabel('Statistica')\n",
    "    plt.legend(title=None)\n",
    "    plt.tight_layout()\n",
    "    plt.savefig(os.path.join(FIG_OUTPUT_PATH, save_name))\n",
    "    plt.show()\n",
    "\n",
    "# 4. Generazione dei grafici per ogni cluster\n",
    "plot_cluster_comparison(0, ['pts_per_36_min', 'ast_per_36_min'], cluster_profiles_df, overall_averages, '#1f77b4', 'slide_11_cluster_0.png', 'Cluster 0 (All-Around Stars): Punti e Assist')\n",
    "plot_cluster_comparison(1, ['trb_per_36_min', 'blk_per_36_min'], cluster_profiles_df, overall_averages, '#2ca02c', 'slide_12_cluster_1.png', 'Cluster 1 (Specialisti Difensivi): Rimbalzi e Stoppate')\n",
    "plot_cluster_comparison(2, ['ast_per_36_min', 'tov_per_36_min'], cluster_profiles_df, overall_averages, '#d62728', 'slide_13_cluster_2.png', 'Cluster 2 (Playmaker Puri): Assist e Palle Perse')\n",
    "plot_cluster_comparison(3, ['pts_per_36_min', 'trb_per_36_min', 'ast_per_36_min'], cluster_profiles_df, overall_averages, '#ffd700', 'slide_14_cluster_3.png', 'Cluster 3 (Giocatori di Ruolo): Contributo Generale')\n",
    "plot_cluster_comparison(4, ['tov_per_36_min'], cluster_profiles_df, overall_averages, '#ff7f0e', 'slide_15_cluster_4.png', 'Cluster 4 (Controllo Rischio): Palle Perse')\n",
    "plot_cluster_comparison(5, ['ts_pct_calc', 'pts_per_36_min'], cluster_profiles_df, overall_averages, '#9467bd', 'slide_16_cluster_5.png', 'Cluster 5 (Marcatori Efficienti): Efficienza e Punti')"
   ]
  },
  {
   "cell_type": "markdown",
   "metadata": {},
   "source": [
    "### Conclusione\n",
    "\n",
    "Tutti i grafici necessari per la presentazione sono stati generati e salvati nella cartella `reports/figures`. Sono pronti per essere importati nelle slide."
   ]
  },
  {
   "cell_type": "code",
   "execution_count": null,
   "metadata": {},
   "outputs": [],
   "source": [
    "# Termina la sessione Spark per liberare le risorse\n",
    "spark.stop()"
   ]
  }
 ],
 "metadata": {
  "kernelspec": {
   "display_name": ".venv",
   "language": "python",
   "name": "python3"
  },
  "language_info": {
   "codemirror_mode": {
    "name": "ipython",
    "version": 3
   },
   "file_extension": ".py",
   "mimetype": "text/x-python",
   "name": "python",
   "nbconvert_exporter": "python",
   "pygments_lexer": "ipython3",
   "version": "3.13.3"
  }
 },
 "nbformat": 4,
 "nbformat_minor": 4
}
